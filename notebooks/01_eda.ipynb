{
 "cells": [
  {
   "cell_type": "code",
   "execution_count": null,
   "id": "0",
   "metadata": {},
   "outputs": [],
   "source": [
    "import numpy as np \n",
    "import pandas as pd\n",
    "import matplotlib.pyplot as plt \n",
    "import seaborn as sns \n",
    "import os\n",
    "from sklearn.model_selection import train_test_split\n"
   ]
  },
  {
   "cell_type": "code",
   "execution_count": null,
   "id": "1",
   "metadata": {},
   "outputs": [],
   "source": [
    "from datetime import datetime\n",
    "def save_plot(filename, folder='../reports/figures', fmt='png'): \n",
    "    os.makedirs(folder, exist_ok=True)\n",
    "    filepath = os.path.join(folder, f\"{filename}.{fmt}\")\n",
    "    fig = plt.gcf()\n",
    "    fig.savefig(filepath, dpi=300)\n",
    "    print(f\"Saved: {filepath}\")"
   ]
  },
  {
   "cell_type": "markdown",
   "id": "2",
   "metadata": {},
   "source": [
    "### Set style "
   ]
  },
  {
   "cell_type": "code",
   "execution_count": null,
   "id": "3",
   "metadata": {},
   "outputs": [],
   "source": [
    "plt.style.use('ggplot')\n",
    "sns.set_palette(\"Set2\")\n",
    "%matplotlib inline\n"
   ]
  },
  {
   "cell_type": "markdown",
   "id": "4",
   "metadata": {},
   "source": [
    "### preprocessing data\n"
   ]
  },
  {
   "cell_type": "markdown",
   "id": "5",
   "metadata": {},
   "source": [
    "- importing data with encoding `iso-8859-1` because the file doesn't work with utf-8\n",
    "- the orginal data has 5 columns total but the only `v1` and `v2` has the data so we need to delete the empty columns by selecting `v1` and `v2`\n",
    "- changing the columns name for clarity \n"
   ]
  },
  {
   "cell_type": "markdown",
   "id": "6",
   "metadata": {},
   "source": [
    "### split data to train and test data"
   ]
  },
  {
   "cell_type": "code",
   "execution_count": null,
   "id": "7",
   "metadata": {},
   "outputs": [],
   "source": [
    "df = pd.read_csv('../data/raw/spam-sms.csv', encoding='iso-8859-1')\n",
    "train_df, test_df = train_test_split(df, test_size=0.2, random_state=42)\n",
    "test_df = test_df[['v1', 'v2']]\n",
    "test_df.columns = ['label', 'message']\n",
    "test_df.to_csv('../data/processed/test_set.csv', index=True)\n",
    "train_df = train_df[['v1', 'v2']]\n",
    "train_df.columns = ['label', 'message']\n",
    "train_df.to_csv('../data/processed/train_set.csv', index=True)\n",
    "\n",
    "train_df"
   ]
  },
  {
   "cell_type": "code",
   "execution_count": null,
   "id": "8",
   "metadata": {},
   "outputs": [],
   "source": [
    "print(\"=== shape ===\")\n",
    "print(train_df.shape)\n",
    "\n",
    "print(\"\\n=== Missing values ===\")\n",
    "print(train_df.isnull().sum())\n",
    "\n",
    "print(\"\\n=== LABEL DISTRIBUTION ===\")\n",
    "print(train_df['label'].value_counts())"
   ]
  },
  {
   "cell_type": "code",
   "execution_count": null,
   "id": "9",
   "metadata": {},
   "outputs": [],
   "source": [
    "sns.set_style(\"whitegrid\") \n",
    "sns.countplot(data=train_df, x='label', hue='label', palette='pastel')\n",
    "plt.title(\"Class distribution: Spam vs Ham\")\n",
    "plt.xlabel(\"label\")\n",
    "plt.ylabel(\"Count\")\n",
    "save_plot(\"class_distribution\")\n",
    "plt.close()\n",
    "plt.show()"
   ]
  },
  {
   "cell_type": "code",
   "execution_count": null,
   "id": "10",
   "metadata": {},
   "outputs": [],
   "source": [
    "# Add length column\n",
    "train_df['length'] = train_df['message'].apply(len)\n",
    "\n",
    "# Plot distribution of lengths by class\n",
    "plt.figure(figsize=(10,6))\n",
    "sns.histplot(data=train_df, x='length', hue='label', kde=True, palette='Set1')\n",
    "plt.title(\"Message Length Distribution by Class\")\n",
    "plt.xlabel(\"Message Length (characters)\")\n",
    "plt.ylabel(\"Frequency\")\n",
    "save_plot('message_length_distrubtion')\n",
    "plt.show()\n",
    "plt.close()\n",
    "\n",
    "# # Stats\n",
    "# print(\"\\n=== Average Length ===\")\n",
    "# print(train_df.groupby('label')['length'].mean())"
   ]
  },
  {
   "cell_type": "code",
   "execution_count": null,
   "id": "11",
   "metadata": {},
   "outputs": [],
   "source": [
    "train_df['exclamation_count'] = train_df['message'].apply(lambda x: x.count('!'))\n",
    "train_df['uppercase_ratio'] = train_df['message'].apply(lambda x: sum(1 for c in x if c.isupper()) / len(x) if len(x)> 0 else 0)\n",
    "\n",
    "print(\"\\n=== Average Exclamation Marks ===\")\n",
    "print(train_df.groupby('label')['exclamation_count'].mean())\n",
    "\n",
    "print(\"\\n=== Average Uppercase Ratio ===\")\n",
    "print(train_df.groupby('label')['uppercase_ratio'].mean())"
   ]
  },
  {
   "cell_type": "markdown",
   "id": "12",
   "metadata": {},
   "source": [
    "### EDA "
   ]
  },
  {
   "cell_type": "code",
   "execution_count": null,
   "id": "13",
   "metadata": {},
   "outputs": [],
   "source": [
    "from collections import Counter \n",
    "import re \n",
    "\n",
    "def get_words(text): \n",
    "    text = re.sub(r'[^a-zA-Z]', '', text.lower())\n",
    "    return text.split() \n",
    "\n",
    "\n",
    "spam_words = []\n",
    "ham_words = []\n",
    "\n",
    "for _, row in train_df.iterrows(): \n",
    "    words = get_words(row['message'])\n",
    "    if row['label'] == 'spam': \n",
    "        spam_words.extend(words)\n",
    "    else: \n",
    "        ham_words.extend(words)\n",
    "\n",
    "\n",
    "spam_counter = Counter(spam_words)\n",
    "ham_counter = Counter(ham_words)\n",
    "\n",
    "\n",
    "print(\"\\n=== TOP 10 SPAM WORDS ===\")\n",
    "print(spam_counter.most_common(10))\n",
    "\n",
    "print(\"\\n=== TOP 10 HAM WORDS ===\")\n",
    "print(ham_counter.most_common(10))\n"
   ]
  },
  {
   "cell_type": "code",
   "execution_count": null,
   "id": "14",
   "metadata": {},
   "outputs": [],
   "source": [
    "from wordcloud import WordCloud\n",
    "\n",
    "# Join all spam/ham messages\n",
    "spam_text = ' '.join(train_df[train_df['label'] == 'spam']['message'])  # or == 1 if encoded\n",
    "ham_text = ' '.join(train_df[train_df['label'] == 'ham']['message'])\n",
    "# # Clean text for wordcloud (optional but better)\n",
    "def clean_text(text):\n",
    "    return re.sub(r'[^a-zA-Z\\s]', '', text.lower())\n",
    "\n",
    "spam_text_clean = clean_text(spam_text)\n",
    "ham_text_clean = clean_text(ham_text)\n",
    "\n",
    "\n",
    "# # Generate word clouds\n",
    "fig, ax = plt.subplots(1, 2, figsize=(16, 8))\n",
    "\n",
    "wc_spam = WordCloud(width=800, height=400, background_color='white').generate(spam_text_clean)\n",
    "ax[0].imshow(wc_spam, interpolation='bilinear')\n",
    "ax[0].set_title(\"Spam Word Cloud\", fontsize=20)\n",
    "ax[0].axis(\"off\")\n",
    "\n",
    "wc_ham = WordCloud(width=800, height=400, background_color='white').generate(ham_text_clean)\n",
    "ax[1].imshow(wc_ham, interpolation='bilinear')\n",
    "ax[1].set_title(\"Ham Word Cloud\", fontsize=20)\n",
    "ax[1].axis(\"off\")\n",
    "\n",
    "save_plot(\"spam_ham_word_cloud\")\n",
    "\n",
    "plt.show()\n",
    "# plt.close()"
   ]
  },
  {
   "cell_type": "code",
   "execution_count": null,
   "id": "15",
   "metadata": {},
   "outputs": [],
   "source": [
    "print(\"\\n== Sample spam messages ==\")\n",
    "print(train_df[train_df['label'] == 'spam']['message'].sample(5).values)\n",
    "print(\"\\n== Sample ham messages ==\")\n",
    "print(train_df[train_df['label'] == 'ham']['message'].sample(5).values)\n"
   ]
  },
  {
   "cell_type": "code",
   "execution_count": null,
   "id": "16",
   "metadata": {},
   "outputs": [],
   "source": [
    "stats = train_df['label'].value_counts().to_frame()\n",
    "stats['percentage'] = round((stats['count'] / len(train_df) ) * 100, 2)\n",
    "stats"
   ]
  },
  {
   "cell_type": "markdown",
   "id": "17",
   "metadata": {},
   "source": [
    "#### EDA insights - SMS spam Dataset \n",
    "- Total messages: 5,572\n",
    "- Spam: 747 (13%) | ham:  13.41 (86.59%)\n",
    "- Avg Spam Length: 138 chars | Avg Ham Length: 71 chars → Spam is longer\n",
    "- Top Spam Words: free, win, prize, call, urgent, mobile, text, now, claim, reply\n",
    "- Top Ham Words: ok, love, go, time, know, got, day, good, sorry, need\n",
    "- Spam uses 3x more \"!\" and 2x more uppercase letters "
   ]
  }
 ],
 "metadata": {
  "kernelspec": {
   "display_name": "sms-binary-classification",
   "language": "python",
   "name": "python3"
  },
  "language_info": {
   "codemirror_mode": {
    "name": "ipython",
    "version": 3
   },
   "file_extension": ".py",
   "mimetype": "text/x-python",
   "name": "python",
   "nbconvert_exporter": "python",
   "pygments_lexer": "ipython3",
   "version": "3.12.9"
  }
 },
 "nbformat": 4,
 "nbformat_minor": 5
}
